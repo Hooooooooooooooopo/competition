{
 "cells": [
  {
   "cell_type": "code",
   "execution_count": 1,
   "metadata": {},
   "outputs": [],
   "source": [
    "import requests\n",
    "import pandas as pd\n",
    "import time\n",
    "from datetime import datetime\n",
    "from sklearn.linear_model import LinearRegression"
   ]
  },
  {
   "cell_type": "code",
   "execution_count": 2,
   "metadata": {},
   "outputs": [],
   "source": [
    "model = LinearRegression()"
   ]
  },
  {
   "cell_type": "code",
   "execution_count": 3,
   "metadata": {},
   "outputs": [],
   "source": [
    "def Quote_change(today,yesterday):\n",
    "    change = (today-yesterday)/yesterday\n",
    "    return change"
   ]
  },
  {
   "cell_type": "code",
   "execution_count": 5,
   "metadata": {
    "scrolled": true
   },
   "outputs": [],
   "source": [
    "all_0050 = pd.read_csv(\"0050_all_stock.csv\")"
   ]
  },
  {
   "cell_type": "code",
   "execution_count": null,
   "metadata": {},
   "outputs": [],
   "source": [
    "tokens = \"\"\n"
   ]
  },
  {
   "cell_type": "code",
   "execution_count": 6,
   "metadata": {
    "scrolled": true
   },
   "outputs": [
    {
     "name": "stdout",
     "output_type": "stream",
     "text": [
      "data_id:  1101\n",
      "Current Time = 13:38:36\n",
      "data_id:  1102\n",
      "Current Time = 13:38:38\n",
      "data_id:  1216\n",
      "Current Time = 13:38:39\n",
      "data_id:  1301\n",
      "Current Time = 13:38:39\n",
      "data_id:  1303\n",
      "Current Time = 13:38:40\n"
     ]
    }
   ],
   "source": [
    "b = []\n",
    "\n",
    "for i in range(0,5):#all_0050.shape[0]\n",
    "    a=[]\n",
    "    url = \"https://api.finmindtrade.com/api/v4/data\"\n",
    "    parameter = {\n",
    "        \"dataset\": \"TaiwanStockPrice\",\n",
    "        \"data_id\": \"{}\".format(all_0050.iloc[i,1]),\n",
    "        \"start_date\": \"2021-03-04\",\n",
    "        \"end_date\": \"2021-03-31\",\n",
    "        \"token\": tokens, # 參考登入，獲取金鑰\n",
    "    }\n",
    "    #time.sleep(3)\n",
    "    a.append(parameter[\"data_id\"])\n",
    "    \n",
    "    resp = requests.get(url, params=parameter)\n",
    "    data = resp.json()\n",
    "    data = pd.DataFrame(data[\"data\"])\n",
    "    #print(data.shape)\n",
    "    print(\"data_id: \",\"{}\".format(all_0050.iloc[i,1]))\n",
    "    date = (data[\"date\"][-10:])\n",
    "    \n",
    "    close_yesterday = list(data[\"close\"])\n",
    "    close_yesterday.insert(0,\"num\")\n",
    "    close_yesterday = close_yesterday[:-1]\n",
    "    close_yesterday = close_yesterday[-10:]\n",
    "    close_yesterday    \n",
    "    \n",
    "    close_ = data[\"close\"]\n",
    "    del data[\"stock_id\"]\n",
    "    del data[\"date\"]\n",
    "    \n",
    "    X_train = data.iloc[:-11,:]\n",
    "    y_train = close_[1:-10]\n",
    "    X_test = data.iloc[-11:-1]\n",
    "    y_test = close_[-10:]\n",
    "\n",
    "\n",
    "    model.fit(X_train, y_train)\n",
    "    y_test_hat = model.predict(X_test)\n",
    "    y_test_hat = y_test_hat.round(4)\n",
    "    \n",
    "    predition_data = []\n",
    "    for k in range(0,10):\n",
    "        g = []\n",
    "        g.append(date.iloc[k])\n",
    "        g.append(y_test_hat[k])\n",
    "        g.append(y_test.iloc[k])\n",
    "        g.append(Quote_change(y_test_hat[k],close_yesterday[k]))\n",
    "        \n",
    "        \n",
    "        predition_data.append(g)\n",
    "    a.append(predition_data)\n",
    "    \n",
    "    b.append(a)\n",
    "    \n",
    "    now = datetime.now()\n",
    "    current_time = now.strftime(\"%H:%M:%S\")\n",
    "    print(\"Current Time =\", current_time)"
   ]
  },
  {
   "cell_type": "code",
   "execution_count": null,
   "metadata": {},
   "outputs": [],
   "source": []
  }
 ],
 "metadata": {
  "kernelspec": {
   "display_name": "Python 3",
   "language": "python",
   "name": "python3"
  },
  "language_info": {
   "codemirror_mode": {
    "name": "ipython",
    "version": 3
   },
   "file_extension": ".py",
   "mimetype": "text/x-python",
   "name": "python",
   "nbconvert_exporter": "python",
   "pygments_lexer": "ipython3",
   "version": "3.7.1"
  }
 },
 "nbformat": 4,
 "nbformat_minor": 2
}
